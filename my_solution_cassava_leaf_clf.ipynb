{
 "cells": [
  {
   "attachments": {},
   "cell_type": "markdown",
   "id": "442ec057",
   "metadata": {},
   "source": [
    "# Imports"
   ]
  },
  {
   "cell_type": "code",
   "execution_count": 27,
   "id": "7b21361e",
   "metadata": {},
   "outputs": [],
   "source": [
    "import numpy as np\n",
    "import pandas as pd\n",
    "import matplotlib.pyplot as plt\n",
    "import os \n",
    "import json\n",
    "import seaborn as sns\n",
    "import plotly.figure_factory as ff\n",
    "from sklearn.utils import shuffle\n",
    "import tensorflow as tf\n",
    "from tensorflow.keras.models import Model,load_model,Sequential\n",
    "from tensorflow.keras.preprocessing.image import ImageDataGenerator\n",
    "import plotly.graph_objects as go\n",
    "from tensorflow.keras.layers import Dense, Activation,Flatten,Conv2D,Dropout,MaxPooling2D,AveragePooling2D,BatchNormalization,GlobalAveragePooling2D\n",
    "from tensorflow.keras import layers\n",
    "from keras.callbacks import EarlyStopping, ModelCheckpoint, ReduceLROnPlateau\n",
    "from tensorflow.keras.metrics import CategoricalAccuracy, Precision, Recall\n",
    "from tensorflow.keras.layers.experimental import preprocessing\n",
    "from tensorflow.keras.optimizers.legacy import Adam\n",
    "from tensorflow.keras.applications.efficientnet_v2 import EfficientNetV2S\n",
    "from tensorflow.keras.utils import plot_model\n",
    "from tensorflow.keras.applications import EfficientNetB0, MobileNetV2, EfficientNetB7, ConvNeXtBase\n",
    "from tqdm.notebook import tqdm\n",
    "from pathlib import Path\n",
    "import cv2\n",
    "from PIL import Image \n",
    "import warnings \n",
    "warnings.filterwarnings('ignore')"
   ]
  },
  {
   "cell_type": "code",
   "execution_count": 15,
   "id": "df82918b",
   "metadata": {},
   "outputs": [],
   "source": [
    "import platform"
   ]
  },
  {
   "cell_type": "code",
   "execution_count": 16,
   "id": "52dd4d9c",
   "metadata": {},
   "outputs": [
    {
     "name": "stdout",
     "output_type": "stream",
     "text": [
      "Tensorflow version 2.13.0\n"
     ]
    }
   ],
   "source": [
    "print(\"Tensorflow version \" + tf.__version__)"
   ]
  },
  {
   "cell_type": "code",
   "execution_count": 17,
   "id": "d78d24e1",
   "metadata": {},
   "outputs": [
    {
     "name": "stdout",
     "output_type": "stream",
     "text": [
      "Python Platform: macOS-13.4.1-arm64-arm-64bit\n",
      "Tensor Flow Version: 2.13.0\n",
      "\n",
      "GPU is available\n"
     ]
    }
   ],
   "source": [
    "print(f\"Python Platform: {platform.platform()}\")\n",
    "print(f\"Tensor Flow Version: {tf.__version__}\")\n",
    "print()\n",
    "gpu = len(tf.config.list_physical_devices('GPU'))>0\n",
    "print(\"GPU is\", \"available\" if gpu else \"NOT AVAILABLE\")"
   ]
  },
  {
   "attachments": {},
   "cell_type": "markdown",
   "id": "dc183d74",
   "metadata": {},
   "source": [
    "# Load Data"
   ]
  },
  {
   "cell_type": "code",
   "execution_count": 18,
   "id": "848353fc",
   "metadata": {},
   "outputs": [
    {
     "data": {
      "text/html": [
       "<div>\n",
       "<style scoped>\n",
       "    .dataframe tbody tr th:only-of-type {\n",
       "        vertical-align: middle;\n",
       "    }\n",
       "\n",
       "    .dataframe tbody tr th {\n",
       "        vertical-align: top;\n",
       "    }\n",
       "\n",
       "    .dataframe thead th {\n",
       "        text-align: right;\n",
       "    }\n",
       "</style>\n",
       "<table border=\"1\" class=\"dataframe\">\n",
       "  <thead>\n",
       "    <tr style=\"text-align: right;\">\n",
       "      <th></th>\n",
       "      <th>image_id</th>\n",
       "      <th>label</th>\n",
       "    </tr>\n",
       "  </thead>\n",
       "  <tbody>\n",
       "    <tr>\n",
       "      <th>18634</th>\n",
       "      <td>483986538.jpg</td>\n",
       "      <td>3</td>\n",
       "    </tr>\n",
       "    <tr>\n",
       "      <th>1086</th>\n",
       "      <td>1186910590.jpg</td>\n",
       "      <td>4</td>\n",
       "    </tr>\n",
       "    <tr>\n",
       "      <th>14439</th>\n",
       "      <td>35835458.jpg</td>\n",
       "      <td>3</td>\n",
       "    </tr>\n",
       "    <tr>\n",
       "      <th>15301</th>\n",
       "      <td>3750000354.jpg</td>\n",
       "      <td>4</td>\n",
       "    </tr>\n",
       "    <tr>\n",
       "      <th>19761</th>\n",
       "      <td>689866725.jpg</td>\n",
       "      <td>3</td>\n",
       "    </tr>\n",
       "    <tr>\n",
       "      <th>...</th>\n",
       "      <td>...</td>\n",
       "      <td>...</td>\n",
       "    </tr>\n",
       "    <tr>\n",
       "      <th>13123</th>\n",
       "      <td>3349562972.jpg</td>\n",
       "      <td>3</td>\n",
       "    </tr>\n",
       "    <tr>\n",
       "      <th>19648</th>\n",
       "      <td>669748740.jpg</td>\n",
       "      <td>3</td>\n",
       "    </tr>\n",
       "    <tr>\n",
       "      <th>9845</th>\n",
       "      <td>2750295170.jpg</td>\n",
       "      <td>3</td>\n",
       "    </tr>\n",
       "    <tr>\n",
       "      <th>10799</th>\n",
       "      <td>2925605732.jpg</td>\n",
       "      <td>1</td>\n",
       "    </tr>\n",
       "    <tr>\n",
       "      <th>2732</th>\n",
       "      <td>1475296121.jpg</td>\n",
       "      <td>3</td>\n",
       "    </tr>\n",
       "  </tbody>\n",
       "</table>\n",
       "<p>21397 rows × 2 columns</p>\n",
       "</div>"
      ],
      "text/plain": [
       "             image_id label\n",
       "18634   483986538.jpg     3\n",
       "1086   1186910590.jpg     4\n",
       "14439    35835458.jpg     3\n",
       "15301  3750000354.jpg     4\n",
       "19761   689866725.jpg     3\n",
       "...               ...   ...\n",
       "13123  3349562972.jpg     3\n",
       "19648   669748740.jpg     3\n",
       "9845   2750295170.jpg     3\n",
       "10799  2925605732.jpg     1\n",
       "2732   1475296121.jpg     3\n",
       "\n",
       "[21397 rows x 2 columns]"
      ]
     },
     "execution_count": 18,
     "metadata": {},
     "output_type": "execute_result"
    }
   ],
   "source": [
    "train_data = pd.read_csv('./data/train.csv')\n",
    "train_data = shuffle(train_data,random_state = 0)\n",
    "train_data['label'] = pd.Series(train_data['label'], dtype=\"string\")\n",
    "train_data"
   ]
  },
  {
   "cell_type": "code",
   "execution_count": 19,
   "id": "406070e5",
   "metadata": {},
   "outputs": [
    {
     "data": {
      "text/plain": [
       "{'0': 'Cassava Bacterial Blight (CBB)',\n",
       " '1': 'Cassava Brown Streak Disease (CBSD)',\n",
       " '2': 'Cassava Green Mottle (CGM)',\n",
       " '3': 'Cassava Mosaic Disease (CMD)',\n",
       " '4': 'Healthy'}"
      ]
     },
     "execution_count": 19,
     "metadata": {},
     "output_type": "execute_result"
    }
   ],
   "source": [
    "label_names = open('./data/label_num_to_disease_map.json')\n",
    "label_names = json.load(label_names)\n",
    "label_names"
   ]
  },
  {
   "cell_type": "code",
   "execution_count": 20,
   "id": "9218d734",
   "metadata": {},
   "outputs": [
    {
     "data": {
      "text/html": [
       "<div>\n",
       "<style scoped>\n",
       "    .dataframe tbody tr th:only-of-type {\n",
       "        vertical-align: middle;\n",
       "    }\n",
       "\n",
       "    .dataframe tbody tr th {\n",
       "        vertical-align: top;\n",
       "    }\n",
       "\n",
       "    .dataframe thead th {\n",
       "        text-align: right;\n",
       "    }\n",
       "</style>\n",
       "<table border=\"1\" class=\"dataframe\">\n",
       "  <thead>\n",
       "    <tr style=\"text-align: right;\">\n",
       "      <th></th>\n",
       "      <th>image_id</th>\n",
       "      <th>label</th>\n",
       "      <th>Classification</th>\n",
       "    </tr>\n",
       "  </thead>\n",
       "  <tbody>\n",
       "    <tr>\n",
       "      <th>18634</th>\n",
       "      <td>483986538.jpg</td>\n",
       "      <td>3</td>\n",
       "      <td>Cassava Mosaic Disease (CMD)</td>\n",
       "    </tr>\n",
       "    <tr>\n",
       "      <th>1086</th>\n",
       "      <td>1186910590.jpg</td>\n",
       "      <td>4</td>\n",
       "      <td>Healthy</td>\n",
       "    </tr>\n",
       "    <tr>\n",
       "      <th>14439</th>\n",
       "      <td>35835458.jpg</td>\n",
       "      <td>3</td>\n",
       "      <td>Cassava Mosaic Disease (CMD)</td>\n",
       "    </tr>\n",
       "    <tr>\n",
       "      <th>15301</th>\n",
       "      <td>3750000354.jpg</td>\n",
       "      <td>4</td>\n",
       "      <td>Healthy</td>\n",
       "    </tr>\n",
       "    <tr>\n",
       "      <th>19761</th>\n",
       "      <td>689866725.jpg</td>\n",
       "      <td>3</td>\n",
       "      <td>Cassava Mosaic Disease (CMD)</td>\n",
       "    </tr>\n",
       "    <tr>\n",
       "      <th>...</th>\n",
       "      <td>...</td>\n",
       "      <td>...</td>\n",
       "      <td>...</td>\n",
       "    </tr>\n",
       "    <tr>\n",
       "      <th>13123</th>\n",
       "      <td>3349562972.jpg</td>\n",
       "      <td>3</td>\n",
       "      <td>Cassava Mosaic Disease (CMD)</td>\n",
       "    </tr>\n",
       "    <tr>\n",
       "      <th>19648</th>\n",
       "      <td>669748740.jpg</td>\n",
       "      <td>3</td>\n",
       "      <td>Cassava Mosaic Disease (CMD)</td>\n",
       "    </tr>\n",
       "    <tr>\n",
       "      <th>9845</th>\n",
       "      <td>2750295170.jpg</td>\n",
       "      <td>3</td>\n",
       "      <td>Cassava Mosaic Disease (CMD)</td>\n",
       "    </tr>\n",
       "    <tr>\n",
       "      <th>10799</th>\n",
       "      <td>2925605732.jpg</td>\n",
       "      <td>1</td>\n",
       "      <td>Cassava Brown Streak Disease (CBSD)</td>\n",
       "    </tr>\n",
       "    <tr>\n",
       "      <th>2732</th>\n",
       "      <td>1475296121.jpg</td>\n",
       "      <td>3</td>\n",
       "      <td>Cassava Mosaic Disease (CMD)</td>\n",
       "    </tr>\n",
       "  </tbody>\n",
       "</table>\n",
       "<p>21397 rows × 3 columns</p>\n",
       "</div>"
      ],
      "text/plain": [
       "             image_id label                       Classification\n",
       "18634   483986538.jpg     3         Cassava Mosaic Disease (CMD)\n",
       "1086   1186910590.jpg     4                              Healthy\n",
       "14439    35835458.jpg     3         Cassava Mosaic Disease (CMD)\n",
       "15301  3750000354.jpg     4                              Healthy\n",
       "19761   689866725.jpg     3         Cassava Mosaic Disease (CMD)\n",
       "...               ...   ...                                  ...\n",
       "13123  3349562972.jpg     3         Cassava Mosaic Disease (CMD)\n",
       "19648   669748740.jpg     3         Cassava Mosaic Disease (CMD)\n",
       "9845   2750295170.jpg     3         Cassava Mosaic Disease (CMD)\n",
       "10799  2925605732.jpg     1  Cassava Brown Streak Disease (CBSD)\n",
       "2732   1475296121.jpg     3         Cassava Mosaic Disease (CMD)\n",
       "\n",
       "[21397 rows x 3 columns]"
      ]
     },
     "execution_count": 20,
     "metadata": {},
     "output_type": "execute_result"
    }
   ],
   "source": [
    "train_data[\"Classification\"] = train_data[\"label\"].apply(lambda x: label_names.get(x))\n",
    "train_data"
   ]
  },
  {
   "attachments": {},
   "cell_type": "markdown",
   "id": "7180772b",
   "metadata": {},
   "source": [
    "# EDA"
   ]
  },
  {
   "cell_type": "code",
   "execution_count": null,
   "id": "44098f2f",
   "metadata": {},
   "outputs": [],
   "source": [
    "label_count = train_data.groupby('label', as_index=False).count()\n",
    "label_count.rename(columns={'image_id': 'Count', 'label': 'Label'}, inplace=True)\n",
    "label_count['Label'] = label_count['Label'].apply(lambda x: label_names[x])\n",
    "\n",
    "fig, ax = plt.subplots(1, 1, figsize=(6, 4))\n",
    "font1 = {'family': 'Times New Roman','weight': 'bold','style':'normal','size': 20}\n",
    "ax.set_xlabel('Type of disease',font1)\n",
    "ax.set_ylabel('Count',font1)\n",
    "ax = sns.barplot(x=label_count['Count'], y=label_count['Label'], palette='viridis')\n",
    "ax.tick_params(labelsize=16)"
   ]
  },
  {
   "cell_type": "code",
   "execution_count": null,
   "id": "8db5328d",
   "metadata": {},
   "outputs": [],
   "source": [
    "def show_image(image_ids, labels):\n",
    "    plt.figure(figsize=(15, 9))\n",
    "    \n",
    "    for i, (image_id, label) in enumerate(zip(image_ids, labels)):\n",
    "        plt.subplot(3, 3, i + 1)\n",
    "        try:\n",
    "            img = cv2.imread(os.path.join('./data/train_images', image_id))\n",
    "            if img is None:\n",
    "                raise FileNotFoundError(f\"Image not found: {image_id}\")\n",
    "            \n",
    "            img = cv2.cvtColor(img, cv2.COLOR_BGR2RGB)\n",
    "            plt.imshow(img)\n",
    "            plt.title(f\"Class: {label}\", fontsize=12)\n",
    "            plt.axis(\"off\")\n",
    "        except Exception as e:\n",
    "            # Handle the error gracefully\n",
    "            print(f\"Error loading image '{image_id}': {e}\")\n",
    "    \n",
    "    plt.show()\n",
    "\n",
    "samples = train_data.sample(9, random_state=0)\n",
    "image_ids = samples['image_id'].values\n",
    "labels = samples['Classification'].values\n",
    "\n",
    "show_image(image_ids, labels)\n"
   ]
  },
  {
   "cell_type": "code",
   "execution_count": null,
   "id": "d407af5e",
   "metadata": {},
   "outputs": [],
   "source": [
    "def load_img(path):\n",
    "    try:\n",
    "        img_bgr = cv2.imread(path)\n",
    "        img_rgb = img_bgr[:, :, ::-1]\n",
    "        return img_rgb\n",
    "    except Exception as e:\n",
    "        print(f\"Error loading image '{path}': {e}\")\n",
    "        return None\n",
    "\n",
    "# explore the pixels of cassava leaf pictures\n",
    "img_folder = Path('data/train_images')\n",
    "if img_folder.exists():\n",
    "    img_names = img_folder.glob('*')\n",
    "    plt.figure(figsize=(12, 8), dpi=800)\n",
    "    pbar = tqdm(img_names, total=len(train_data))\n",
    "    for img_name in pbar:\n",
    "        img = load_img(img_name.as_posix())\n",
    "        if img is not None:\n",
    "            # here use the calchist method in cv2 to show the histogram of photo pixels\n",
    "            hist = cv2.calcHist([img], [0], None, [256], [0, 256])\n",
    "            plt.plot(hist)\n",
    "        else:\n",
    "            print(f\"Skipping image: '{img_name}'\")\n",
    "    plt.show()\n",
    "else:\n",
    "    print('Directory containing images does not exist.')"
   ]
  },
  {
   "attachments": {},
   "cell_type": "markdown",
   "id": "3bc6b58b",
   "metadata": {},
   "source": [
    "## Healthy & Cassava Leaf Visualization"
   ]
  },
  {
   "cell_type": "code",
   "execution_count": null,
   "id": "df021f6c",
   "metadata": {},
   "outputs": [],
   "source": [
    "Healthy_Cassava = train_data[train_data['Classification'] == 'Healthy']['image_id'].to_list()\n",
    "\n",
    "CMD_Cassava = train_data[train_data['Classification'] == 'Cassava Mosaic Disease (CMD)']['image_id'].to_list()"
   ]
  },
  {
   "cell_type": "code",
   "execution_count": null,
   "id": "03f3eb46",
   "metadata": {},
   "outputs": [],
   "source": [
    "np.random.seed(20239417)\n",
    "\n",
    "base_path = Path('data')\n",
    "train_img_dir =  base_path/'train_images'\n",
    "\n",
    "random_images=[]\n",
    "plt.figure(figsize=(16,12))\n",
    "for i in range(9):\n",
    "    random_images.append(np.random.choice(Healthy_Cassava))\n",
    "\n",
    "for i in range(9): \n",
    "    plt.subplot(3, 3, i + 1)\n",
    "    img = plt.imread(train_img_dir/random_images[i])\n",
    "    plt.imshow(img)\n",
    "plt.show() "
   ]
  },
  {
   "cell_type": "code",
   "execution_count": null,
   "id": "736b08fc",
   "metadata": {},
   "outputs": [],
   "source": [
    "f = plt.figure(figsize=(16,8))\n",
    "f.add_subplot(1,2, 1)\n",
    "\n",
    "font2 = {'family': 'Times New Roman','weight': 'bold','style':'normal','size': 14}\n",
    "raw_image = plt.imread(train_img_dir/Healthy_Cassava[2])\n",
    "plt.imshow(raw_image, cmap='gray')\n",
    "plt.colorbar()\n",
    "plt.title('Healthy Image',font2)\n",
    "print(f\"Image dimensions:  {raw_image.shape[0],raw_image.shape[1]}\")\n",
    "print(f\"Maximum pixel value : {raw_image.max():.1f} ; Minimum pixel value:{raw_image.min():.1f}\")\n",
    "print(f\"Mean value of the pixels : {raw_image.mean():.1f} ; Standard deviation : {raw_image.std():.1f}\")\n",
    "\n",
    "f.add_subplot(1,2, 2)\n",
    "#  plt.hist(raw_image[:, :, 0].ravel(), bins=256, color='red', alpha=0.5): This line creates a histogram for the red channel of the image (raw_image) and \n",
    "# visualizes the pixel intensity distribution. It uses raw_image[:, :, 0] to extract the red channel of the image, and \n",
    "# ravel() is used to flatten the 2D array into a 1D array (necessary for plotting the histogram). \n",
    "# The bins=256 parameter specifies that the histogram will have 256 bins, which means that the intensity values will be grouped into 256 intervals. \n",
    "# The color='red' parameter sets the color of the histogram to red, and alpha=0.5 sets the transparency of the histogram to 50%, making it semi-transparent.\n",
    "plt.hist(raw_image[:, :, 0].ravel(), bins = 256, color = 'red', alpha = 0.5)\n",
    "plt.hist(raw_image[:, :, 1].ravel(), bins = 256, color = 'Green', alpha = 0.5)\n",
    "plt.hist(raw_image[:, :, 2].ravel(), bins = 256, color = 'Blue', alpha = 0.5)\n",
    "plt.xlabel('Intensity Value',font2)\n",
    "plt.ylabel('Count',font2)\n",
    "plt.legend(['Red_Channel', 'Green_Channel', 'Blue_Channel'])\n",
    "plt.show()"
   ]
  },
  {
   "cell_type": "code",
   "execution_count": null,
   "id": "1adbc334",
   "metadata": {},
   "outputs": [],
   "source": [
    "imageArray = []\n",
    "for i in range(len(Healthy_Cassava)):\n",
    "    try:\n",
    "        img = cv2.imread(str(train_img_dir / Healthy_Cassava[i]))\n",
    "        if img is not None:\n",
    "            imageArray.append(cv2.cvtColor(img, cv2.COLOR_BGR2RGB))\n",
    "        else:\n",
    "            print(f\"Failed to load image: {train_img_dir / Healthy_Cassava[i]}\")\n",
    "    except Exception as e:\n",
    "        print(f\"Error loading image: {train_img_dir / Healthy_Cassava[i]} - {e}\")\n",
    "\n",
    "red_values = []\n",
    "green_values = []\n",
    "blue_values = []\n",
    "values = []\n",
    "\n",
    "for i in range(len(imageArray)):\n",
    "    red_values.append(np.mean(imageArray[i][:, :, 0]))\n",
    "    green_values.append(np.mean(imageArray[i][:, :, 1]))\n",
    "    blue_values.append(np.mean(imageArray[i][:, :, 2]))\n",
    "    values.append(np.mean(imageArray[i]))\n",
    "\n",
    "hist_data = [red_values, green_values, blue_values, values]\n",
    "group_labels = ['Red', 'Green', 'Blue', 'All']\n",
    "\n",
    "fig = ff.create_distplot(hist_data, group_labels,colors = ['red', 'green','blue','grey'])\n",
    "fig.update_layout(template = 'plotly_white', title_text = 'Channel Distribution - Healthy')\n",
    "fig.show()"
   ]
  },
  {
   "cell_type": "code",
   "execution_count": null,
   "id": "cd91a9b6",
   "metadata": {},
   "outputs": [],
   "source": [
    "figData = []\n",
    "for i, name in zip(range(3), ['Red', 'Green', 'Blue']):\n",
    "    trace = go.Box(y = hist_data[i], name = name, boxpoints='all', marker_color  = name)\n",
    "    figData.append(trace)\n",
    "\n",
    "fig = go.Figure(figData)\n",
    "fig.update_layout(title_text = 'Pixel Intensity Distribution - health leaf', template = 'plotly_white')\n",
    "fig.show() "
   ]
  },
  {
   "attachments": {},
   "cell_type": "markdown",
   "id": "c5d00bb5",
   "metadata": {},
   "source": [
    "# Modelling"
   ]
  },
  {
   "cell_type": "code",
   "execution_count": 21,
   "id": "7c49cc96",
   "metadata": {},
   "outputs": [],
   "source": [
    "IMAGE_SIZE = 224\n",
    "BATCH_SIZE = 128"
   ]
  },
  {
   "cell_type": "code",
   "execution_count": 22,
   "id": "a72c88f6",
   "metadata": {},
   "outputs": [],
   "source": [
    "train_data[\"label\"] = train_data[\"label\"].astype(str)"
   ]
  },
  {
   "attachments": {},
   "cell_type": "markdown",
   "id": "5ab88be2",
   "metadata": {},
   "source": [
    "## Data Augmentation"
   ]
  },
  {
   "cell_type": "code",
   "execution_count": 23,
   "id": "a8598473",
   "metadata": {},
   "outputs": [],
   "source": [
    "train_data_gen = ImageDataGenerator(\n",
    "    rotation_range=40, \n",
    "    width_shift_range=0.2, \n",
    "    height_shift_range=0.2,\n",
    "    shear_range = 0.2, \n",
    "    zoom_range = 0.2,    \n",
    "    horizontal_flip = True, \n",
    "    vertical_flip = True,\n",
    "    validation_split = 0.2,\n",
    "    fill_mode = 'nearest')\n",
    "\n",
    "val_data_gen = ImageDataGenerator(validation_split = 0.2)"
   ]
  },
  {
   "cell_type": "code",
   "execution_count": 24,
   "id": "e898f0a5",
   "metadata": {},
   "outputs": [
    {
     "name": "stdout",
     "output_type": "stream",
     "text": [
      "Found 17118 validated image filenames belonging to 5 classes.\n"
     ]
    }
   ],
   "source": [
    "train_df_iter = train_data_gen.flow_from_dataframe(\n",
    "    dataframe=train_data, directory = \"data/train_images\", seed = 0, x_col = \"image_id\", y_col = \"label\", interpolation = 'nearest', \n",
    "    target_size = (IMAGE_SIZE, IMAGE_SIZE), class_mode = \"categorical\", batch_size = BATCH_SIZE, shuffle = True, subset = \"training\")"
   ]
  },
  {
   "cell_type": "code",
   "execution_count": 25,
   "id": "6deee6b0",
   "metadata": {},
   "outputs": [
    {
     "name": "stdout",
     "output_type": "stream",
     "text": [
      "Found 4279 validated image filenames belonging to 5 classes.\n"
     ]
    }
   ],
   "source": [
    "val_df_iter = val_data_gen.flow_from_dataframe(\n",
    "    dataframe=train_data, directory = \"data/train_images\", seed = 0, x_col = \"image_id\",y_col = \"label\", interpolation = 'nearest', \n",
    "    target_size = (IMAGE_SIZE, IMAGE_SIZE), class_mode = \"categorical\", batch_size = BATCH_SIZE, shuffle = True, subset = \"validation\")"
   ]
  },
  {
   "cell_type": "code",
   "execution_count": 26,
   "id": "47d51c93",
   "metadata": {},
   "outputs": [
    {
     "data": {
      "text/plain": [
       "18634    3\n",
       "1086     4\n",
       "14439    3\n",
       "15301    4\n",
       "19761    3\n",
       "Name: label, dtype: object"
      ]
     },
     "execution_count": 26,
     "metadata": {},
     "output_type": "execute_result"
    }
   ],
   "source": [
    "train_data[\"label\"].head()"
   ]
  },
  {
   "attachments": {},
   "cell_type": "markdown",
   "id": "fbd565ef",
   "metadata": {},
   "source": [
    "The choice between Categorical Cross Entropy and Sparse Categorical Cross Entropy depends on how the class labels are represented:\n",
    "\n",
    "Categorical Cross Entropy (Softmax Cross Entropy):\n",
    "\n",
    "    Used when class labels are one-hot encoded.\n",
    "    The model's output has the same number of units as the number of classes, and each unit's activation represents the probability of the input belonging to that class.\n",
    "    The true labels are provided in one-hot encoded format, where only one element is 1, and the rest are 0s.\n",
    "    Appropriate when there are a small number of classes or memory is not a concern.\n",
    "\n",
    "Sparse Categorical Cross Entropy:\n",
    "\n",
    "    Used when class labels are represented as integers (e.g., 0, 1, 2, etc.).\n",
    "    The model's output still has the same number of units as the number of classes, but the true labels are provided as integers instead of one-hot encoded arrays.\n",
    "    The integer class labels directly specify the class of each input sample.\n",
    "    Appropriate when there are a large number of classes, and one-hot encoding of labels might be memory-intensive.\n",
    "\n",
    "In our case, train_data dataframe's \"label\" column contains integer class labels (e.g., 0, 1, 2, etc.), so we can use Sparse Categorical Cross Entropy as the loss function. It will work effectively and avoid the overhead of one-hot encoding the labels."
   ]
  },
  {
   "attachments": {},
   "cell_type": "markdown",
   "id": "0d02b853",
   "metadata": {},
   "source": [
    "## Loss function"
   ]
  },
  {
   "cell_type": "code",
   "execution_count": 14,
   "id": "1202b601",
   "metadata": {},
   "outputs": [],
   "source": [
    "optimizer = Adam(lr=0.00105)\n",
    "model_loss = tf.keras.losses.CategoricalCrossentropy(from_logits = False, \n",
    "                                                     label_smoothing=0.0001, \n",
    "                                                     name='categorical_crossentropy')"
   ]
  },
  {
   "cell_type": "code",
   "execution_count": 15,
   "id": "9825a17a",
   "metadata": {},
   "outputs": [],
   "source": [
    "NCLASSES = 5"
   ]
  },
  {
   "cell_type": "code",
   "execution_count": null,
   "id": "939b8d82",
   "metadata": {},
   "outputs": [],
   "source": [
    "MobileNetV2"
   ]
  },
  {
   "cell_type": "code",
   "execution_count": 25,
   "id": "6213f033",
   "metadata": {},
   "outputs": [],
   "source": [
    "def custom_model_with_base_MobileNetV2():\n",
    "    conv_base = ConvNeXtBase( \n",
    "        include_top = False, \n",
    "        weights = 'None',\n",
    "        input_shape = (IMAGE_SIZE, IMAGE_SIZE, 3),\n",
    "        pooling='avg')\n",
    "    conv_base.trainable = False\n",
    "    model = conv_base.output\n",
    "    model = layers.GlobalAveragePooling2D()(model)\n",
    "    model = BatchNormalization()(model)\n",
    "    model = layers.Dense(NCLASSES, activation = \"softmax\")(model)\n",
    "    model = Model(conv_base.input, model)\n",
    "    model.compile(optimizer = Adam(lr = 0.01),\n",
    "                  loss = \"categorical_crossentropy\",\n",
    "                  metrics = ['acc'])\n",
    "    return model"
   ]
  },
  {
   "cell_type": "code",
   "execution_count": 26,
   "id": "ece5cdc0",
   "metadata": {},
   "outputs": [],
   "source": [
    "my_model = custom_model_with_base_MobileNetV2()"
   ]
  },
  {
   "cell_type": "code",
   "execution_count": 35,
   "id": "c671ea37",
   "metadata": {},
   "outputs": [],
   "source": [
    "my_model.save('weights/my_model_pretrained_fintuned.h5')"
   ]
  },
  {
   "cell_type": "code",
   "execution_count": 3,
   "id": "fe214e70",
   "metadata": {},
   "outputs": [
    {
     "name": "stderr",
     "output_type": "stream",
     "text": [
      "2023-07-24 15:00:40.685720: I metal_plugin/src/device/metal_device.cc:1154] Metal device set to: Apple M1\n",
      "2023-07-24 15:00:40.685780: I metal_plugin/src/device/metal_device.cc:296] systemMemory: 8.00 GB\n",
      "2023-07-24 15:00:40.685791: I metal_plugin/src/device/metal_device.cc:313] maxCacheSize: 2.67 GB\n",
      "2023-07-24 15:00:40.686196: I tensorflow/core/common_runtime/pluggable_device/pluggable_device_factory.cc:303] Could not identify NUMA node of platform GPU ID 0, defaulting to 0. Your kernel may not have been built with NUMA support.\n",
      "2023-07-24 15:00:40.686501: I tensorflow/core/common_runtime/pluggable_device/pluggable_device_factory.cc:269] Created TensorFlow device (/job:localhost/replica:0/task:0/device:GPU:0 with 0 MB memory) -> physical PluggableDevice (device: 0, name: METAL, pci bus id: <undefined>)\n"
     ]
    }
   ],
   "source": [
    "my_model = tf.keras.saving.load_model('weights/my_model_pretrained_fintuned.h5')"
   ]
  },
  {
   "cell_type": "code",
   "execution_count": 20,
   "id": "d60ed0dc",
   "metadata": {},
   "outputs": [
    {
     "name": "stdout",
     "output_type": "stream",
     "text": [
      "Our Model has 157 layers\n"
     ]
    }
   ],
   "source": [
    "\n",
    "print('Our Model has %d layers' %len(my_model.layers))"
   ]
  },
  {
   "cell_type": "code",
   "execution_count": 21,
   "id": "bab3ae27",
   "metadata": {},
   "outputs": [],
   "source": [
    "STEPS_PER_EPOCH  = len(train_data)*0.8 / BATCH_SIZE\n",
    "VALIDATION_STEPS = len(train_data)*0.2 / BATCH_SIZE"
   ]
  },
  {
   "attachments": {},
   "cell_type": "markdown",
   "id": "f9de0d62",
   "metadata": {},
   "source": []
  },
  {
   "attachments": {},
   "cell_type": "markdown",
   "id": "f2de2081",
   "metadata": {},
   "source": [
    "## Training Configurations"
   ]
  },
  {
   "cell_type": "code",
   "execution_count": 27,
   "id": "707a6980",
   "metadata": {},
   "outputs": [],
   "source": [
    "reduce_lr = ReduceLROnPlateau(  monitor='val_loss', \n",
    "                                factor=0.2,\n",
    "                                patience=2, \n",
    "                                min_lr=1e-6, \n",
    "                                mode='min', \n",
    "                                verbose=1)\n",
    "\n",
    "early_stopping = EarlyStopping(monitor = \"val_loss\", \n",
    "                               mode = \"min\", \n",
    "                               patience = 2, \n",
    "                               restore_best_weights=True, \n",
    "                               verbose= 1)\n",
    "\n",
    "check_point = ModelCheckpoint( \"Cassava_Leaf_Disease_Detection_MobileNetV2_BestModel.h5\", \n",
    "                                monitor = 'val_loss',\n",
    "                                mode = 'min', \n",
    "                                save_best_only=True,\n",
    "                                save_weights_only=True)"
   ]
  },
  {
   "cell_type": "code",
   "execution_count": 28,
   "id": "1f3ede0f",
   "metadata": {},
   "outputs": [
    {
     "name": "stdout",
     "output_type": "stream",
     "text": [
      "Epoch 1/10\n"
     ]
    },
    {
     "name": "stderr",
     "output_type": "stream",
     "text": [
      "2023-07-24 12:26:51.086538: I tensorflow/core/grappler/optimizers/custom_graph_optimizer_registry.cc:114] Plugin optimizer for device_type GPU is enabled.\n"
     ]
    },
    {
     "name": "stdout",
     "output_type": "stream",
     "text": [
      "134/133 [==============================] - ETA: 0s - loss: 1.3886 - acc: 0.5744"
     ]
    },
    {
     "name": "stderr",
     "output_type": "stream",
     "text": [
      "2023-07-24 12:31:22.430362: I tensorflow/core/grappler/optimizers/custom_graph_optimizer_registry.cc:114] Plugin optimizer for device_type GPU is enabled.\n"
     ]
    },
    {
     "name": "stdout",
     "output_type": "stream",
     "text": [
      "133/133 [==============================] - 312s 2s/step - loss: 1.3886 - acc: 0.5744 - val_loss: 1.4234 - val_acc: 0.6242 - lr: 0.0100\n",
      "Epoch 2/10\n",
      "133/133 [==============================] - 2827s 21s/step - loss: 1.1950 - acc: 0.6048 - val_loss: 1.2505 - val_acc: 0.6254 - lr: 0.0100\n",
      "Epoch 3/10\n",
      "133/133 [==============================] - 321s 2s/step - loss: 1.1180 - acc: 0.6199 - val_loss: 1.1623 - val_acc: 0.6394 - lr: 0.0100\n",
      "Epoch 4/10\n",
      "133/133 [==============================] - 303s 2s/step - loss: 1.0668 - acc: 0.6316 - val_loss: 1.0611 - val_acc: 0.6294 - lr: 0.0100\n",
      "Epoch 5/10\n",
      "133/133 [==============================] - 306s 2s/step - loss: 1.0454 - acc: 0.6379 - val_loss: 1.0825 - val_acc: 0.6389 - lr: 0.0100\n",
      "Epoch 6/10\n",
      "134/133 [==============================] - ETA: 0s - loss: 1.0250 - acc: 0.6376Restoring model weights from the end of the best epoch: 4.\n",
      "\n",
      "Epoch 6: ReduceLROnPlateau reducing learning rate to 0.0019999999552965165.\n",
      "133/133 [==============================] - 301s 2s/step - loss: 1.0250 - acc: 0.6376 - val_loss: 1.0888 - val_acc: 0.6242 - lr: 0.0100\n",
      "Epoch 6: early stopping\n"
     ]
    }
   ],
   "source": [
    "history = my_model.fit(\n",
    "    train_df_iter,\n",
    "    steps_per_epoch = STEPS_PER_EPOCH,\n",
    "    validation_data = val_df_iter,\n",
    "    validation_steps = VALIDATION_STEPS,\n",
    "    epochs = 10, \n",
    "    callbacks = [early_stopping, reduce_lr, check_point]\n",
    ")"
   ]
  },
  {
   "cell_type": "code",
   "execution_count": 30,
   "id": "fb043bc1",
   "metadata": {},
   "outputs": [],
   "source": [
    "for l in my_model.layers:\n",
    "    # print(\"{0:40s}, {1:<10s}\".format(l.name, \"True\" if l.trainable == True else \"False\"))\n",
    "    l.trainable = True\n",
    "\n",
    "my_model.compile(   loss=model_loss, \n",
    "                    optimizer=Adam(learning_rate=1e-2), \n",
    "                    metrics=['acc'])\n"
   ]
  },
  {
   "cell_type": "code",
   "execution_count": 31,
   "id": "1fb2860d",
   "metadata": {},
   "outputs": [
    {
     "name": "stdout",
     "output_type": "stream",
     "text": [
      "Epoch 1/3\n"
     ]
    },
    {
     "name": "stderr",
     "output_type": "stream",
     "text": [
      "2023-07-24 13:41:44.498276: I tensorflow/core/grappler/optimizers/custom_graph_optimizer_registry.cc:114] Plugin optimizer for device_type GPU is enabled.\n"
     ]
    },
    {
     "name": "stdout",
     "output_type": "stream",
     "text": [
      "134/133 [==============================] - ETA: -1s - loss: 1.2532 - acc: 0.6072"
     ]
    },
    {
     "name": "stderr",
     "output_type": "stream",
     "text": [
      "2023-07-24 13:54:11.708179: I tensorflow/core/grappler/optimizers/custom_graph_optimizer_registry.cc:114] Plugin optimizer for device_type GPU is enabled.\n"
     ]
    },
    {
     "name": "stdout",
     "output_type": "stream",
     "text": [
      "133/133 [==============================] - 792s 6s/step - loss: 1.2532 - acc: 0.6072 - val_loss: 3.9897 - val_acc: 0.1082 - lr: 0.0100\n",
      "Epoch 2/3\n",
      "133/133 [==============================] - 726s 5s/step - loss: 1.1893 - acc: 0.6146 - val_loss: 1.7731 - val_acc: 0.1082 - lr: 0.0100\n",
      "Epoch 3/3\n",
      "133/133 [==============================] - 732s 5s/step - loss: 1.1899 - acc: 0.6146 - val_loss: 1.2624 - val_acc: 0.6163 - lr: 0.0100\n"
     ]
    }
   ],
   "source": [
    "fine_tuning_history = my_model.fit(  \n",
    "    train_df_iter, \n",
    "    steps_per_epoch = STEPS_PER_EPOCH,\n",
    "    validation_data = val_df_iter,\n",
    "    validation_steps = VALIDATION_STEPS,\n",
    "    epochs = 3, \n",
    "    callbacks = [early_stopping, reduce_lr, check_point])"
   ]
  },
  {
   "attachments": {},
   "cell_type": "markdown",
   "id": "5d87c904",
   "metadata": {},
   "source": [
    "## Results"
   ]
  },
  {
   "cell_type": "code",
   "execution_count": 34,
   "id": "88dfd9aa",
   "metadata": {},
   "outputs": [
    {
     "data": {
      "image/png": "[encoded data removed]",
      "text/plain": [
       "<Figure size 1200x1200 with 1 Axes>"
      ]
     },
     "metadata": {},
     "output_type": "display_data"
    },
    {
     "data": {
      "image/png": "[encoded data removed]",
      "text/plain": [
       "<Figure size 640x480 with 1 Axes>"
      ]
     },
     "metadata": {},
     "output_type": "display_data"
    },
    {
     "data": {
      "image/png": "[encoded data removed]",
      "text/plain": [
       "<Figure size 640x480 with 1 Axes>"
      ]
     },
     "metadata": {},
     "output_type": "display_data"
    },
    {
     "data": {
      "image/png": "[encoded data removed]",
      "text/plain": [
       "<Figure size 640x480 with 1 Axes>"
      ]
     },
     "metadata": {},
     "output_type": "display_data"
    }
   ],
   "source": [
    "# Models Evaluation \n",
    "freeze_accuracy = history.history[\"acc\"]\n",
    "freeze_v_accuracy = history.history[\"val_acc\"]\n",
    "\n",
    "freeze_loss = history.history[\"loss\"]\n",
    "freeze_v_loss = history.history[\"val_loss\"]\n",
    "\n",
    "acc = fine_tuning_history.history[\"acc\"]\n",
    "v_acc = fine_tuning_history.history[\"val_acc\"]\n",
    "\n",
    "loss = fine_tuning_history.history[\"loss\"]\n",
    "v_loss = fine_tuning_history.history[\"val_loss\"]\n",
    "\n",
    "# Plot four main Evaluation criterions\n",
    "epochs_10 = range(6)\n",
    "epochs_3 = range(3)\n",
    "\n",
    "\n",
    "plt.figure(figsize = (12, 12))\n",
    "plt.subplot(2, 2, 1)\n",
    "plt.plot(epochs_10, freeze_accuracy, label = \"Training Set freeze_accuracy\")\n",
    "plt.plot(epochs_10, freeze_v_accuracy, label = \"Validation Set freeze_v_accuracy\")\n",
    "plt.legend(loc = \"lower right\")\n",
    "plt.title(\"Freezed Training and Validation Accuracy\")\n",
    "plt.show()\n",
    "\n",
    "plt.subplot(2, 2, 2)\n",
    "plt.plot(epochs_10, freeze_loss, label = \"Training Set freeze_loss\")\n",
    "plt.plot(epochs_10, freeze_v_loss, label = \"Validation Set freeze_v_loss\")\n",
    "plt.legend(loc = \"lower right\")\n",
    "plt.title(\"Freezed Training and Validation Loss\")\n",
    "plt.show()\n",
    "\n",
    "plt.subplot(2, 2, 3)\n",
    "plt.plot(epochs_3, acc, label = \"Training Set Accuracy\")\n",
    "plt.plot(epochs_3, v_acc, label = \"Validation Set Accuracy\")\n",
    "plt.legend(loc = \"lower right\")\n",
    "plt.title(\"Training and Validation Accuracy\")\n",
    "plt.show()\n",
    "\n",
    "plt.subplot(2, 2, 4)\n",
    "plt.plot(epochs_3, loss, label = \"Training Set Loss\")\n",
    "plt.plot(epochs_3, v_loss, label = \"Validation Set Loss\")\n",
    "plt.legend(loc = \"lower right\")\n",
    "plt.title(\"Training and Validation Loss\")\n",
    "plt.show()"
   ]
  },
  {
   "attachments": {},
   "cell_type": "markdown",
   "id": "9cb89bc8",
   "metadata": {},
   "source": [
    "# Convert and save as tflite model"
   ]
  },
  {
   "cell_type": "code",
   "execution_count": 4,
   "id": "49fe11d2",
   "metadata": {},
   "outputs": [
    {
     "name": "stdout",
     "output_type": "stream",
     "text": [
      "INFO:tensorflow:Assets written to: /var/folders/yq/qh4ny6ms3kz0yqqj4q2gqkn00000gn/T/tmp5u_wt902/assets\n"
     ]
    },
    {
     "name": "stderr",
     "output_type": "stream",
     "text": [
      "INFO:tensorflow:Assets written to: /var/folders/yq/qh4ny6ms3kz0yqqj4q2gqkn00000gn/T/tmp5u_wt902/assets\n"
     ]
    },
    {
     "ename": "",
     "evalue": "",
     "output_type": "error",
     "traceback": [
      "\u001b[1;31mCanceled future for execute_request message before replies were done"
     ]
    },
    {
     "ename": "",
     "evalue": "",
     "output_type": "error",
     "traceback": [
      "\u001b[1;31mThe Kernel crashed while executing code in the the current cell or a previous cell. Please review the code in the cell(s) to identify a possible cause of the failure. Click <a href='https://aka.ms/vscodeJupyterKernelCrash'>here</a> for more info. View Jupyter <a href='command:jupyter.viewOutput'>log</a> for further details."
     ]
    }
   ],
   "source": [
    "# Convert the model.\n",
    "converter = tf.lite.TFLiteConverter.from_keras_model(my_model)\n",
    "converter.optimizations = [tf.lite.Optimize.DEFAULT]\n",
    "converter.target_spec.supported_ops = [tf.lite.OpsSet.TFLITE_BUILTINS]\n",
    "tflite_model = converter.convert()"
   ]
  },
  {
   "cell_type": "code",
   "execution_count": null,
   "id": "eac323c8",
   "metadata": {},
   "outputs": [],
   "source": [
    "# Save the model.\n",
    "with open('my_model_pretrained_finetuned.tflite', 'wb') as f:\n",
    "  f.write(tflite_model)"
   ]
  },
  {
   "attachments": {},
   "cell_type": "markdown",
   "id": "134b4fa7",
   "metadata": {},
   "source": [
    "# Prediction"
   ]
  },
  {
   "cell_type": "code",
   "execution_count": null,
   "id": "429489bf",
   "metadata": {},
   "outputs": [],
   "source": [
    "preds = []\n",
    "sample_sub_csv = pd.read_csv('data/sample_submission.csv')\n",
    "classes = [ \"Cassava Bacterial Blight (CBB)\", \n",
    "           \"Cassava Brown Streak Disease (CBSD)\", \n",
    "           \"Cassava Green Mottle (CGM)\", \n",
    "           \"Cassava Mosaic Disease (CMD)\", \n",
    "           \"Healthy\" ]\n",
    "for image in sample_sub_csv.image_id:\n",
    "    img = tf.keras.preprocessing.image.load_img('data/test_images/' + image)\n",
    "    img = tf.keras.preprocessing.image.img_to_array(img)\n",
    "    img = tf.keras.preprocessing.image.smart_resize(img, (IMAGE_SIZE, IMAGE_SIZE))\n",
    "    img = tf.reshape(img, (-1, IMAGE_SIZE, IMAGE_SIZE, 3))\n",
    "    prediction = custom_model_with_base_MobileNetV2.predict(img)\n",
    "    print(f\"prediction: {prediction}, type: {type(prediction)}, shape: {prediction.shape}\")\n",
    "    print(f\"Class: {classes[np.argmax(prediction)]}\")\n",
    "    preds.append(np.argmax(prediction))\n",
    "\n",
    "final_submission = pd.DataFrame({'image_id': sample_sub_csv.image_id, 'label': preds})\n",
    "final_submission.to_csv('submission.csv', index=False) "
   ]
  },
  {
   "attachments": {},
   "cell_type": "markdown",
   "id": "2c67206f",
   "metadata": {},
   "source": [
    "prediction: [[0.00491412 0.04006411 0.09978469 0.67050004 0.18473706]], \n",
    "\n",
    "type: <class 'numpy.ndarray'>, shape: (1, 5)\n",
    "\n",
    "\n",
    "Class: Cassava Mosaic Disease (CMD)"
   ]
  },
  {
   "attachments": {},
   "cell_type": "markdown",
   "id": "76db9ef4",
   "metadata": {},
   "source": [
    "prediction: [[0.02368715 0.03569924 0.01429282 0.8705369  0.0557838 ]], \n",
    "\n",
    "type: <class 'numpy.ndarray'>, shape: (1, 5)\n",
    "\n",
    "\n",
    "Class: Cassava Mosaic Disease (CMD)"
   ]
  }
 ],
 "metadata": {
  "kernelspec": {
   "display_name": "cassava-leaf-clf-TF",
   "language": "python",
   "name": "cassava-leaf-clf-tf"
  },
  "language_info": {
   "codemirror_mode": {
    "name": "ipython",
    "version": 3
   },
   "file_extension": ".py",
   "mimetype": "text/x-python",
   "name": "python",
   "nbconvert_exporter": "python",
   "pygments_lexer": "ipython3",
   "version": "3.9.16"
  }
 },
 "nbformat": 4,
 "nbformat_minor": 5
}
